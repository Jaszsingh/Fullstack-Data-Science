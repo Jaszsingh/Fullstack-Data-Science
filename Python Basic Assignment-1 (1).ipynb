{
 "cells": [
  {
   "cell_type": "code",
   "execution_count": null,
   "id": "98c7656d",
   "metadata": {},
   "outputs": [],
   "source": [
    "Q1. In the below elements which of them are values or an expression? eg:- values can be\n",
    "integer or string and expressions will be mathematical operators."
   ]
  },
  {
   "cell_type": "code",
   "execution_count": null,
   "id": "dd8e5c4f",
   "metadata": {},
   "outputs": [],
   "source": [
    "*         -   Expression"
   ]
  },
  {
   "cell_type": "code",
   "execution_count": null,
   "id": "0d0a933a",
   "metadata": {},
   "outputs": [],
   "source": [
    "'hello'   -   Value"
   ]
  },
  {
   "cell_type": "code",
   "execution_count": null,
   "id": "f9582a9f",
   "metadata": {},
   "outputs": [],
   "source": [
    "-87.8     -   Value"
   ]
  },
  {
   "cell_type": "code",
   "execution_count": null,
   "id": "e48e2144",
   "metadata": {},
   "outputs": [],
   "source": [
    "-         -   Expression"
   ]
  },
  {
   "cell_type": "code",
   "execution_count": null,
   "id": "a86275a5",
   "metadata": {},
   "outputs": [],
   "source": [
    "/         -   Expression"
   ]
  },
  {
   "cell_type": "code",
   "execution_count": null,
   "id": "0037353d",
   "metadata": {},
   "outputs": [],
   "source": [
    "+         -   Expression"
   ]
  },
  {
   "cell_type": "code",
   "execution_count": null,
   "id": "8af2a058",
   "metadata": {},
   "outputs": [],
   "source": [
    "6         -   Value"
   ]
  },
  {
   "cell_type": "code",
   "execution_count": null,
   "id": "c34f2053",
   "metadata": {},
   "outputs": [],
   "source": [
    "Q2. What is the difference between string and variable?"
   ]
  },
  {
   "cell_type": "code",
   "execution_count": null,
   "id": "188a2bd3",
   "metadata": {},
   "outputs": [],
   "source": [
    "'String'- Strings are arrays of bytes represent unicode charatcer which can be wrapped \n",
    "inside double or single quote. String can be assigned to a variable. "
   ]
  },
  {
   "cell_type": "code",
   "execution_count": null,
   "id": "2c8f3a8a",
   "metadata": {},
   "outputs": [],
   "source": [
    "'Variable'- Variables are the containers to store values by taking space \n",
    "based on the type of value we assinged to them. We can write the name of \n",
    "variable in the left hand side and can assign a value in the right hand \n",
    "side with an '=' sign in between. String can be assigned \n",
    "to a variable but variable cannot be assigned to a string."
   ]
  },
  {
   "cell_type": "code",
   "execution_count": null,
   "id": "05c7b5e0",
   "metadata": {},
   "outputs": [],
   "source": [
    "Q3. Describe three different data types."
   ]
  },
  {
   "cell_type": "code",
   "execution_count": null,
   "id": "220c35f1",
   "metadata": {},
   "outputs": [],
   "source": [
    "Integer , String , Float ."
   ]
  },
  {
   "cell_type": "code",
   "execution_count": null,
   "id": "131c8275",
   "metadata": {},
   "outputs": [],
   "source": [
    "Q4. What is an expression made up of? What do all expressions do?"
   ]
  },
  {
   "cell_type": "code",
   "execution_count": null,
   "id": "24cb7d8f",
   "metadata": {},
   "outputs": [],
   "source": [
    "An expression is a combination of values, variables, operators, and calls to function.\n",
    "An expression always evaluate down a single value result."
   ]
  },
  {
   "cell_type": "code",
   "execution_count": null,
   "id": "8938b351",
   "metadata": {},
   "outputs": [],
   "source": [
    "Q5. This assignment statements, like spam = 10. What is the difference between an expression and a statement?"
   ]
  },
  {
   "cell_type": "code",
   "execution_count": null,
   "id": "b9f917e7",
   "metadata": {},
   "outputs": [],
   "source": [
    "An expressionis a combination of values, variables, operators which evaluate and gives out the result. In the given problem 10 is an expression."
   ]
  },
  {
   "cell_type": "code",
   "execution_count": null,
   "id": "d634ac4d",
   "metadata": {},
   "outputs": [],
   "source": [
    "A statment is an instruction that a python interpreter can execute. In the given problem spam=10 is a statment.\n"
   ]
  },
  {
   "cell_type": "code",
   "execution_count": null,
   "id": "c6db3935",
   "metadata": {},
   "outputs": [],
   "source": [
    "Q6. After running the following code, what does the variable bacon contain?\n",
    "bacon = 22\n",
    "bacon + 1\n"
   ]
  },
  {
   "cell_type": "code",
   "execution_count": 3,
   "id": "9b05c5d5",
   "metadata": {},
   "outputs": [
    {
     "data": {
      "text/plain": [
       "23"
      ]
     },
     "execution_count": 3,
     "metadata": {},
     "output_type": "execute_result"
    }
   ],
   "source": [
    "bacon = 22\n",
    "bacon + 1"
   ]
  },
  {
   "cell_type": "code",
   "execution_count": null,
   "id": "5633cac3",
   "metadata": {},
   "outputs": [],
   "source": [
    "Q7. What should the values of the following two terms be?\n",
    "'spam' + 'spamspam'\n",
    "'spam' * 3\n"
   ]
  },
  {
   "cell_type": "code",
   "execution_count": 1,
   "id": "5c723346",
   "metadata": {},
   "outputs": [
    {
     "data": {
      "text/plain": [
       "'spamspamspam'"
      ]
     },
     "execution_count": 1,
     "metadata": {},
     "output_type": "execute_result"
    }
   ],
   "source": [
    "'spam' + 'spamspam'"
   ]
  },
  {
   "cell_type": "code",
   "execution_count": 2,
   "id": "b175a98b",
   "metadata": {},
   "outputs": [
    {
     "data": {
      "text/plain": [
       "'spamspamspam'"
      ]
     },
     "execution_count": 2,
     "metadata": {},
     "output_type": "execute_result"
    }
   ],
   "source": [
    "'spam' * 3"
   ]
  },
  {
   "cell_type": "code",
   "execution_count": null,
   "id": "a99788d5",
   "metadata": {},
   "outputs": [],
   "source": [
    "Q8. Why is eggs a valid variable name while 100 is invalid?"
   ]
  },
  {
   "cell_type": "code",
   "execution_count": null,
   "id": "5219df49",
   "metadata": {},
   "outputs": [],
   "source": [
    "Variable name always starts with alphabet and not with number and can be alphanumeric. "
   ]
  },
  {
   "cell_type": "code",
   "execution_count": null,
   "id": "ad13777c",
   "metadata": {},
   "outputs": [],
   "source": [
    "Q9. What three functions can be used to get the integer, floating-point number, or string version of a value?"
   ]
  },
  {
   "cell_type": "code",
   "execution_count": null,
   "id": "c234b0ff",
   "metadata": {},
   "outputs": [],
   "source": [
    "'int'  ,   'float'   ,   'str'"
   ]
  },
  {
   "cell_type": "code",
   "execution_count": null,
   "id": "1e7d42b1",
   "metadata": {},
   "outputs": [],
   "source": [
    "Q10. Why does this expression cause an error? How can you fix it?\n",
    "'I have eaten ' + 99 + ' burritos.'\n"
   ]
  },
  {
   "cell_type": "code",
   "execution_count": null,
   "id": "6bcda6f0",
   "metadata": {},
   "outputs": [],
   "source": [
    "Above expression conatin --  'string' + 'integer' +''string'. string and integer can not be added but 'string' + 'string' can be added. So to fix this we first change the integer to string value then add it."
   ]
  },
  {
   "cell_type": "code",
   "execution_count": 6,
   "id": "23623b1a",
   "metadata": {},
   "outputs": [
    {
     "data": {
      "text/plain": [
       "'I have eaten 99 burritos'"
      ]
     },
     "execution_count": 6,
     "metadata": {},
     "output_type": "execute_result"
    }
   ],
   "source": [
    "'I have eaten ' + str( 99 ) + ' burritos'"
   ]
  },
  {
   "cell_type": "raw",
   "id": "9c124df7",
   "metadata": {},
   "source": []
  },
  {
   "cell_type": "raw",
   "id": "baecdfb1",
   "metadata": {},
   "source": []
  },
  {
   "cell_type": "raw",
   "id": "9ef8e95e",
   "metadata": {},
   "source": []
  },
  {
   "cell_type": "raw",
   "id": "68dcbce6",
   "metadata": {},
   "source": []
  },
  {
   "cell_type": "raw",
   "id": "d4fb502e",
   "metadata": {},
   "source": []
  },
  {
   "cell_type": "raw",
   "id": "3b419a04",
   "metadata": {},
   "source": []
  },
  {
   "cell_type": "raw",
   "id": "468f09aa",
   "metadata": {},
   "source": []
  },
  {
   "cell_type": "raw",
   "id": "84871a1c",
   "metadata": {},
   "source": []
  }
 ],
 "metadata": {
  "kernelspec": {
   "display_name": "Python 3 (ipykernel)",
   "language": "python",
   "name": "python3"
  },
  "language_info": {
   "codemirror_mode": {
    "name": "ipython",
    "version": 3
   },
   "file_extension": ".py",
   "mimetype": "text/x-python",
   "name": "python",
   "nbconvert_exporter": "python",
   "pygments_lexer": "ipython3",
   "version": "3.9.7"
  }
 },
 "nbformat": 4,
 "nbformat_minor": 5
}
