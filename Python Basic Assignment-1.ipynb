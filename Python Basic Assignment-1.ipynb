{
 "cells": [
  {
   "cell_type": "raw",
   "id": "becf20a4",
   "metadata": {},
   "source": [
    "Q1. In the below elements which of them are values or an expression? eg:- values can be\n",
    "integer or string and expressions will be mathematical operators."
   ]
  },
  {
   "cell_type": "raw",
   "id": "705de8cb",
   "metadata": {},
   "source": [
    "*         -   Expression"
   ]
  },
  {
   "cell_type": "raw",
   "id": "75291ec2",
   "metadata": {},
   "source": [
    "'hello'   -   Value"
   ]
  },
  {
   "cell_type": "raw",
   "id": "b76a2f61",
   "metadata": {},
   "source": [
    "-87.8     -   Value"
   ]
  },
  {
   "cell_type": "raw",
   "id": "ed961ed9",
   "metadata": {},
   "source": [
    "-         -   Expression"
   ]
  },
  {
   "cell_type": "raw",
   "id": "7e9ae85c",
   "metadata": {},
   "source": [
    "/         -   Expression"
   ]
  },
  {
   "cell_type": "raw",
   "id": "6ee8ed85",
   "metadata": {},
   "source": [
    "+         -   Expression"
   ]
  },
  {
   "cell_type": "raw",
   "id": "1d1905a9",
   "metadata": {},
   "source": [
    "6         -   Value"
   ]
  },
  {
   "cell_type": "raw",
   "id": "0a04a278",
   "metadata": {},
   "source": [
    "Q2. What is the difference between string and variable?"
   ]
  },
  {
   "cell_type": "raw",
   "id": "eb04abad",
   "metadata": {},
   "source": [
    "'String'- Strings are arrays of bytes represent unicode charatcer which can be wrapped \n",
    "inside double or single quote. String can be assigned to a variable. "
   ]
  },
  {
   "cell_type": "raw",
   "id": "8bb0be52",
   "metadata": {},
   "source": [
    "'Variable'- Variables are the containers to store values by taking space \n",
    "based on the type of value we assinged to them. We can write the name of \n",
    "variable in the left hand side and can assign a value in the right hand \n",
    "side with an '=' sign in between. String can be assigned \n",
    "to a variable but variable cannot be assigned to a string."
   ]
  },
  {
   "cell_type": "raw",
   "id": "afd38c6b",
   "metadata": {},
   "source": [
    "Q3. Describe three different data types."
   ]
  },
  {
   "cell_type": "raw",
   "id": "dbefa12a",
   "metadata": {},
   "source": [
    "Integer , String , Float ."
   ]
  },
  {
   "cell_type": "raw",
   "id": "1b15ba96",
   "metadata": {},
   "source": [
    "Q4. What is an expression made up of? What do all expressions do?"
   ]
  },
  {
   "cell_type": "raw",
   "id": "78e6c8f1",
   "metadata": {},
   "source": [
    "An expression is a combination of values, variables, operators, and calls to function.\n",
    "An expression always evaluate down a single value result."
   ]
  },
  {
   "cell_type": "raw",
   "id": "7b505543",
   "metadata": {},
   "source": [
    "Q5. This assignment statements, like spam = 10. What is the difference between an expression and a statement?"
   ]
  },
  {
   "cell_type": "raw",
   "id": "1fac11ef",
   "metadata": {},
   "source": [
    "An expressionis a combination of values, variables, operators which evaluate and gives out the result. In the given problem 10 is an expression."
   ]
  },
  {
   "cell_type": "raw",
   "id": "284791bd",
   "metadata": {},
   "source": [
    "A statment is an instruction that a python interpreter can execute. In the given problem spam=10 is a statment.\n"
   ]
  },
  {
   "cell_type": "raw",
   "id": "feeb448e",
   "metadata": {},
   "source": [
    "Q6. After running the following code, what does the variable bacon contain?\n",
    "bacon = 22\n",
    "bacon + 1\n"
   ]
  },
  {
   "cell_type": "code",
   "execution_count": 3,
   "id": "d6cf3445",
   "metadata": {},
   "outputs": [
    {
     "data": {
      "text/plain": [
       "23"
      ]
     },
     "execution_count": 3,
     "metadata": {},
     "output_type": "execute_result"
    }
   ],
   "source": [
    "bacon = 22\n",
    "bacon + 1"
   ]
  },
  {
   "cell_type": "raw",
   "id": "5a5a599c",
   "metadata": {},
   "source": [
    "Q7. What should the values of the following two terms be?\n",
    "'spam' + 'spamspam'\n",
    "'spam' * 3\n"
   ]
  },
  {
   "cell_type": "code",
   "execution_count": 1,
   "id": "5c723346",
   "metadata": {},
   "outputs": [
    {
     "data": {
      "text/plain": [
       "'spamspamspam'"
      ]
     },
     "execution_count": 1,
     "metadata": {},
     "output_type": "execute_result"
    }
   ],
   "source": [
    "'spam' + 'spamspam'"
   ]
  },
  {
   "cell_type": "code",
   "execution_count": 2,
   "id": "b175a98b",
   "metadata": {},
   "outputs": [
    {
     "data": {
      "text/plain": [
       "'spamspamspam'"
      ]
     },
     "execution_count": 2,
     "metadata": {},
     "output_type": "execute_result"
    }
   ],
   "source": [
    "'spam' * 3"
   ]
  },
  {
   "cell_type": "raw",
   "id": "272966da",
   "metadata": {},
   "source": [
    "Q8. Why is eggs a valid variable name while 100 is invalid?"
   ]
  },
  {
   "cell_type": "raw",
   "id": "723e6b21",
   "metadata": {},
   "source": [
    "Variable name always starts with alphabet and not with number and can be alphanumeric. "
   ]
  },
  {
   "cell_type": "raw",
   "id": "66afb576",
   "metadata": {},
   "source": [
    "Q9. What three functions can be used to get the integer, floating-point number, or string version of a value?"
   ]
  },
  {
   "cell_type": "raw",
   "id": "43f7236b",
   "metadata": {},
   "source": [
    "'int'  ,   'float'   ,   'str'"
   ]
  },
  {
   "cell_type": "raw",
   "id": "fd26bf47",
   "metadata": {},
   "source": [
    "Q10. Why does this expression cause an error? How can you fix it?\n",
    "'I have eaten ' + 99 + ' burritos.'\n"
   ]
  },
  {
   "cell_type": "raw",
   "id": "fec7b77d",
   "metadata": {},
   "source": [
    "Above expression conatin --  'string' + 'integer' +''string'. string and integer can not be added but 'string' + 'string' can be added. So to fix this we first change the integer to string value then add it."
   ]
  },
  {
   "cell_type": "code",
   "execution_count": 6,
   "id": "722b8887",
   "metadata": {},
   "outputs": [
    {
     "data": {
      "text/plain": [
       "'I have eaten 99 burritos'"
      ]
     },
     "execution_count": 6,
     "metadata": {},
     "output_type": "execute_result"
    }
   ],
   "source": [
    "'I have eaten ' + str( 99 ) + ' burritos'"
   ]
  },
  {
   "cell_type": "raw",
   "id": "f0cb29e2",
   "metadata": {},
   "source": []
  },
  {
   "cell_type": "raw",
   "id": "7e914d6a",
   "metadata": {},
   "source": []
  },
  {
   "cell_type": "raw",
   "id": "5998be4d",
   "metadata": {},
   "source": []
  },
  {
   "cell_type": "raw",
   "id": "98ab7f46",
   "metadata": {},
   "source": []
  },
  {
   "cell_type": "raw",
   "id": "23812ba8",
   "metadata": {},
   "source": []
  },
  {
   "cell_type": "raw",
   "id": "f3e1fb69",
   "metadata": {},
   "source": []
  },
  {
   "cell_type": "raw",
   "id": "2ca0fce1",
   "metadata": {},
   "source": []
  },
  {
   "cell_type": "raw",
   "id": "84871a1c",
   "metadata": {},
   "source": []
  }
 ],
 "metadata": {
  "kernelspec": {
   "display_name": "Python 3 (ipykernel)",
   "language": "python",
   "name": "python3"
  },
  "language_info": {
   "codemirror_mode": {
    "name": "ipython",
    "version": 3
   },
   "file_extension": ".py",
   "mimetype": "text/x-python",
   "name": "python",
   "nbconvert_exporter": "python",
   "pygments_lexer": "ipython3",
   "version": "3.9.7"
  }
 },
 "nbformat": 4,
 "nbformat_minor": 5
}
